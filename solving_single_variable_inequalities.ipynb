{
 "cells": [
  {
   "cell_type": "code",
   "execution_count": 1,
   "id": "0fb6087b-8309-4c7e-bc92-1004dc25d1d1",
   "metadata": {},
   "outputs": [],
   "source": [
    "''' Solving Single-Variable Inequalities\n",
    "    We want to be able to solve polynomial, rational, and all other inequalities. '''\n",
    "\n",
    "import sympy as sym"
   ]
  },
  {
   "cell_type": "code",
   "execution_count": 2,
   "id": "921a2fbb-bc15-4b6a-8478-e1ffb734a20d",
   "metadata": {},
   "outputs": [],
   "source": [
    "# determine type of function\n",
    "def function_type(ineq_exp):\n",
    "    lhs = ineq_exp.lhs\n",
    "    if lhs.is_polynomial() == True:\n",
    "        poly_inequality(ineq_exp)\n",
    "    elif lhs.is_rational_function() == True:\n",
    "        rat_inequality(ineq_exp)\n",
    "    else:\n",
    "        print('Non Polynomial/Rational Function')\n",
    "        sol = sym.solve_univariate_inequality(ineq_exp, x, relational=False)\n",
    "        sym.pprint(sol)"
   ]
  },
  {
   "cell_type": "code",
   "execution_count": 3,
   "id": "bc0436c6-a9f9-48b8-84fc-c5835b434387",
   "metadata": {},
   "outputs": [],
   "source": [
    "# polynomial inequality function\n",
    "def poly_inequality(ineq_obj):\n",
    "    lhs = ineq_obj.lhs\n",
    "    p = sym.Poly(lhs, x)\n",
    "    rel = ineq_obj.rel_op\n",
    "    sol = sym.solve_poly_inequality(p, rel)\n",
    "    \n",
    "    print('Polynomial Inequality Function')\n",
    "    sym.pprint(ineq_obj)\n",
    "    sym.pprint(sol)"
   ]
  },
  {
   "cell_type": "code",
   "execution_count": 4,
   "id": "d2976357-9ec1-466a-b198-e15df3ad3648",
   "metadata": {},
   "outputs": [],
   "source": [
    "# rational inequality function\n",
    "def rat_inequality(ineq_obj):\n",
    "    lhs = ineq_obj.lhs\n",
    "    numer, denom = lhs.as_numer_denom()\n",
    "    p1 = sym.Poly(numer)\n",
    "    p2 = sym.Poly(denom)\n",
    "    rel = ineq_obj.rel_op\n",
    "    sol = sym.solve_rational_inequalities([[((p1, p2), rel)]])\n",
    "\n",
    "    print('Rational Inequality Function')\n",
    "    sym.pprint(ineq_obj)\n",
    "    sym.pprint(sol)"
   ]
  },
  {
   "cell_type": "markdown",
   "id": "79a2fbf5-9e13-4a8e-83be-a738f7261d3f",
   "metadata": {},
   "source": [
    "Solve $-x^{2}+4<0$"
   ]
  },
  {
   "cell_type": "code",
   "execution_count": 5,
   "id": "c297c7c3-1a09-4d91-a8e7-d18bdb985664",
   "metadata": {},
   "outputs": [
    {
     "name": "stdin",
     "output_type": "stream",
     "text": [
      "Enter equation:  -x**2 + 4 < 0 \n"
     ]
    },
    {
     "name": "stdout",
     "output_type": "stream",
     "text": [
      "Polynomial Inequality Function\n",
      "     2    \n",
      "4 - x  < 0\n",
      "[(-∞, -2), (2, ∞)]\n",
      "\n",
      "\n"
     ]
    }
   ],
   "source": [
    "# solve -x**2 + 4 < 0 \n",
    "if __name__ == '__main__':\n",
    "    x = sym.Symbol('x')\n",
    "    expr = sym.sympify(input('Enter equation: '))\n",
    "    function_type(expr)\n",
    "    print('\\n')"
   ]
  },
  {
   "cell_type": "markdown",
   "id": "2fdd0da1-f96f-4079-b834-cf5f0e8d83c6",
   "metadata": {},
   "source": [
    "Solve $\\frac{x-1}{x+2}>0$"
   ]
  },
  {
   "cell_type": "code",
   "execution_count": 6,
   "id": "ee4cee21-2e99-4269-869e-9386a03dd703",
   "metadata": {},
   "outputs": [
    {
     "name": "stdin",
     "output_type": "stream",
     "text": [
      "Enter equation:  ((x-1)/(x+2)) > 0\n"
     ]
    },
    {
     "name": "stdout",
     "output_type": "stream",
     "text": [
      "Rational Inequality Function\n",
      "x - 1    \n",
      "───── > 0\n",
      "x + 2    \n",
      "(-∞, -2) ∪ (1, ∞)\n",
      "\n",
      "\n"
     ]
    }
   ],
   "source": [
    "# solve ((x-1)/(x+2)) > 0\n",
    "if __name__ == '__main__':\n",
    "    expr = sym.sympify(input('Enter equation: '))\n",
    "    function_type(expr)\n",
    "    print('\\n')"
   ]
  },
  {
   "cell_type": "markdown",
   "id": "2fca1025-24b3-4e68-9b76-cce23c241f9a",
   "metadata": {},
   "source": [
    "Solve $sin(x) -0.6>0$"
   ]
  },
  {
   "cell_type": "code",
   "execution_count": 7,
   "id": "a37a4d7d-6654-4deb-b290-255267b9ef6a",
   "metadata": {},
   "outputs": [
    {
     "name": "stdin",
     "output_type": "stream",
     "text": [
      "Enter equation:  sin(x) - 0.6 > 0\n"
     ]
    },
    {
     "name": "stdout",
     "output_type": "stream",
     "text": [
      "Non Polynomial/Rational Function\n",
      "(0.643501108793284, -0.643501108793284 + π)\n"
     ]
    }
   ],
   "source": [
    "# solve sin(x) - 0.6 > 0\n",
    "if __name__ == '__main__':\n",
    "    expr = sym.sympify(input('Enter equation: '))\n",
    "    function_type(expr)"
   ]
  }
 ],
 "metadata": {
  "kernelspec": {
   "display_name": "Python 3 (ipykernel)",
   "language": "python",
   "name": "python3"
  },
  "language_info": {
   "codemirror_mode": {
    "name": "ipython",
    "version": 3
   },
   "file_extension": ".py",
   "mimetype": "text/x-python",
   "name": "python",
   "nbconvert_exporter": "python",
   "pygments_lexer": "ipython3",
   "version": "3.8.5"
  }
 },
 "nbformat": 4,
 "nbformat_minor": 5
}
